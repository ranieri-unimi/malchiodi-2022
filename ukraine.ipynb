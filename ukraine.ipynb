{
  "cells": [
    {
      "cell_type": "markdown",
      "metadata": {
        "id": "view-in-github",
        "colab_type": "text"
      },
      "source": [
        "<a href=\"https://colab.research.google.com/github/ranieri-unimi/ukraine-malchiodi-2022/blob/main/ukraine.ipynb\" target=\"_parent\"><img src=\"https://colab.research.google.com/assets/colab-badge.svg\" alt=\"Open In Colab\"/></a>"
      ]
    },
    {
      "cell_type": "markdown",
      "metadata": {
        "id": "RgQoZYRAWKCK"
      },
      "source": [
        "### run once"
      ]
    },
    {
      "cell_type": "code",
      "source": [
        "!pip install pyspark\n",
        "!pip install findspark"
      ],
      "metadata": {
        "id": "2uhwYor6WVuT"
      },
      "execution_count": null,
      "outputs": []
    },
    {
      "cell_type": "code",
      "execution_count": 2,
      "metadata": {
        "id": "7mH3gc9TWKCM"
      },
      "outputs": [],
      "source": [
        "import os\n",
        "os.environ[\"KAGGLE_USERNAME\"] = 'ranieriunimi'\n",
        "os.environ[\"KAGGLE_KEY\"] = str(hex(232307088475198570779809482024044346960))[2:]"
      ]
    },
    {
      "cell_type": "code",
      "execution_count": null,
      "metadata": {
        "id": "ngXoXE4KWKCN"
      },
      "outputs": [],
      "source": [
        "ref = 'bwandowando/ukraine-russian-crisis-twitter-dataset-1-2-m-rows'\n",
        "!mkdir datasets\n",
        "!kaggle datasets download $ref --unzip -p ./datasets"
      ]
    },
    {
      "cell_type": "code",
      "execution_count": null,
      "metadata": {
        "id": "1kywqu11WKCQ"
      },
      "outputs": [],
      "source": [
        "import nltk\n",
        "nltk.download('all');"
      ]
    },
    {
      "cell_type": "markdown",
      "source": [
        "## ukraine"
      ],
      "metadata": {
        "id": "oAR7LusA5ZOK"
      }
    },
    {
      "cell_type": "code",
      "source": [
        "SAMPLE_SIZE = 1024"
      ],
      "metadata": {
        "id": "c1FjJN8F6ejg"
      },
      "execution_count": 5,
      "outputs": []
    },
    {
      "cell_type": "code",
      "execution_count": 6,
      "metadata": {
        "id": "sqGrV6XdWKCI"
      },
      "outputs": [],
      "source": [
        "import numpy as np\n",
        "import pandas as pd\n",
        "import csv\n",
        "import re\n",
        "import string\n",
        "import random"
      ]
    },
    {
      "cell_type": "code",
      "source": [
        "import pyspark\n",
        "import findspark"
      ],
      "metadata": {
        "id": "NrOTb9eEWSpB"
      },
      "execution_count": 7,
      "outputs": []
    },
    {
      "cell_type": "code",
      "execution_count": 8,
      "metadata": {
        "id": "VoA9_EouWKCO",
        "colab": {
          "base_uri": "https://localhost:8080/"
        },
        "outputId": "273cc25b-9f9c-415d-bd46-86b6047f3317"
      },
      "outputs": [
        {
          "output_type": "stream",
          "name": "stderr",
          "text": [
            "/usr/local/lib/python3.7/dist-packages/IPython/core/interactiveshell.py:2882: DtypeWarning: Columns (15) have mixed types.Specify dtype option on import or set low_memory=False.\n",
            "  exec(code_obj, self.user_global_ns, self.user_ns)\n"
          ]
        }
      ],
      "source": [
        "# load dataset \n",
        "filename = r\"./datasets/UkraineCombinedTweetsDeduped20220227-131611.csv.gzip\"\n",
        "pd.set_option(\"display.max_columns\", None)\n",
        "df = pd.read_csv(filename, compression='gzip', index_col=0, encoding='utf-8', quoting=csv.QUOTE_ALL)"
      ]
    },
    {
      "cell_type": "markdown",
      "source": [
        "## data cleaning"
      ],
      "metadata": {
        "id": "i3RapMVFenPc"
      }
    },
    {
      "cell_type": "code",
      "execution_count": 9,
      "metadata": {
        "id": "OIzYGa4CWKCQ"
      },
      "outputs": [],
      "source": [
        "import nltk\n",
        "from nltk.corpus import stopwords\n",
        "from nltk.tokenize import word_tokenize\n",
        "from nltk.stem import PorterStemmer\n",
        "from nltk.stem import WordNetLemmatizer\n",
        "\n",
        "eng_sw = set(stopwords.words(\"english\"))"
      ]
    },
    {
      "cell_type": "code",
      "execution_count": 10,
      "metadata": {
        "id": "_frlylt5WKCP"
      },
      "outputs": [],
      "source": [
        "df = df[df.language == 'en'].text.tolist()"
      ]
    },
    {
      "cell_type": "code",
      "source": [
        "if SAMPLE_SIZE:\n",
        "    df = random.sample(df, SAMPLE_SIZE)"
      ],
      "metadata": {
        "id": "FCWDtxA26udo"
      },
      "execution_count": 11,
      "outputs": []
    },
    {
      "cell_type": "code",
      "execution_count": 12,
      "metadata": {
        "id": "5i9KWOCjWKCR"
      },
      "outputs": [],
      "source": [
        "# https://www.pluralsight.com/guides/building-a-twitter-sentiment-analysis-in-python\n",
        "\n",
        "def preprocess_tweet_text(tweet):\n",
        "    index, tweet = tweet\n",
        "\n",
        "    tweet.lower()\n",
        "\n",
        "    # cleanings 🧹\n",
        "\n",
        "    # urls\n",
        "    tweet = re.sub(r\"http\\S+|www\\S+|https\\S+\", '', tweet, flags=re.MULTILINE)\n",
        "\n",
        "    # @ and #\n",
        "    tweet = re.sub(r'\\@\\w+|\\#','', tweet)\n",
        "\n",
        "    # punctuations\n",
        "    # tweet = tweet.translate(str.maketrans('', '', string.punctuation))\n",
        "    tweet = tweet.translate(str.maketrans(string.punctuation+'…’”“', ' '*(len(string.punctuation)+4)))  # puntctuation to spaces\n",
        "\n",
        "\n",
        "    tweet_tokens = word_tokenize(tweet)\n",
        "\n",
        "    # emojitter\n",
        "    wrds = [e for word in tweet_tokens for e in re.findall(r\"(\\w+|[^\\w ]+)\", word)]\n",
        "    # TODO split also emoji-goups\n",
        "\n",
        "    # stopwords\n",
        "    filtered_words = [w for w in wrds if not w in eng_sw]\n",
        "    \n",
        "    # stemmatize\n",
        "    ps = PorterStemmer()\n",
        "    stemmed_words = [ps.stem(w) for w in filtered_words]\n",
        "\n",
        "    # lemmatize\n",
        "    lemmatizer = WordNetLemmatizer()\n",
        "    lemma_words = [str(lemmatizer.lemmatize(w, pos='a')) for w in stemmed_words]\n",
        "  \n",
        "    return (index, lemma_words)"
      ]
    },
    {
      "cell_type": "code",
      "execution_count": 13,
      "metadata": {
        "id": "ABxWwFYYWKCP"
      },
      "outputs": [],
      "source": [
        "#lang_hist = {l:df[df.language == l].size for l in df.language.unique()}"
      ]
    },
    {
      "cell_type": "markdown",
      "metadata": {
        "id": "REaNAuF2WKCS"
      },
      "source": [
        "## hadoop instance"
      ]
    },
    {
      "cell_type": "code",
      "execution_count": 14,
      "metadata": {
        "id": "1gMPGu1YWKCS"
      },
      "outputs": [],
      "source": [
        "# import findspark\n",
        "# findspark.init(\"spark-3.1.1-bin-hadoop3.2\") # SPARK_HOME\n",
        "from pyspark.sql import SparkSession\n",
        "\n",
        "spark = SparkSession.builder.master(\"local[*]\").getOrCreate()\n",
        "sc = spark.sparkContext"
      ]
    },
    {
      "cell_type": "code",
      "source": [
        "rdd = sc.parallelize(enumerate(df))"
      ],
      "metadata": {
        "id": "_Kll5uQHB5hg"
      },
      "execution_count": 15,
      "outputs": []
    },
    {
      "cell_type": "code",
      "source": [
        "dataPipe = rdd.map(preprocess_tweet_text)\n",
        "#dataPipe.take(5)"
      ],
      "metadata": {
        "id": "8TJTiM7aB-vO"
      },
      "execution_count": 16,
      "outputs": []
    },
    {
      "cell_type": "code",
      "source": [
        "# indexing = dataset.flatMap(lambda _, v : [(e,e) for e in v]).reduceByKey(lambda k, v : k)"
      ],
      "metadata": {
        "id": "qweNpiR__zu4"
      },
      "execution_count": 17,
      "outputs": []
    },
    {
      "cell_type": "markdown",
      "source": [
        "### foos"
      ],
      "metadata": {
        "id": "5KLgYMu3DFUg"
      }
    },
    {
      "cell_type": "code",
      "source": [
        "def is_sub(sub, lst) : return all(e in lst for e in sub)\n",
        "def add(a, b) : return a+b\n",
        "def splat(t): return tuple(sorted(list(j for i in t for j in (i if isinstance(i, tuple) else (i,)))))\n",
        "def doubled(t): return len(set(t)) == len(t)"
      ],
      "metadata": {
        "id": "5yG0xwKXOhzV"
      },
      "execution_count": 18,
      "outputs": []
    },
    {
      "cell_type": "code",
      "source": [
        "# nen_rdd = sc.parallelize(df)"
      ],
      "metadata": {
        "id": "n4z4knWFC7bp"
      },
      "execution_count": 19,
      "outputs": []
    },
    {
      "cell_type": "code",
      "source": [
        "# elemListPipe = nen_rdd.flatMap(lambda word_list : word_list).distinct()\n",
        "# elem_index = sc.parallelize(enumerate(elemListPipe.collect()))"
      ],
      "metadata": {
        "id": "yye2c9EaDIx0"
      },
      "execution_count": 20,
      "outputs": []
    },
    {
      "cell_type": "markdown",
      "source": [
        "## Apriori steps"
      ],
      "metadata": {
        "id": "uHFzkHxuGn7Z"
      }
    },
    {
      "cell_type": "markdown",
      "source": [
        "### 1ne"
      ],
      "metadata": {
        "id": "fvv0WIpO-Tma"
      }
    },
    {
      "cell_type": "code",
      "source": [
        "PCENT = .01"
      ],
      "metadata": {
        "id": "e5JdaqEKAg3K"
      },
      "execution_count": 21,
      "outputs": []
    },
    {
      "cell_type": "code",
      "source": [
        "candidateOne = dataPipe.flatMap(lambda x: x[-1]).distinct().collect()"
      ],
      "metadata": {
        "id": "SObjzZhzRzIE"
      },
      "execution_count": 22,
      "outputs": []
    },
    {
      "cell_type": "code",
      "source": [
        "countOnePipe = dataPipe.flatMap(lambda x: x[-1]).map(lambda x: (x,1)).reduceByKey(add)\n",
        "countOnePipe.take(5)"
      ],
      "metadata": {
        "id": "zNeFbxU8zMCO",
        "colab": {
          "base_uri": "https://localhost:8080/"
        },
        "outputId": "5f2f9457-f620-46be-e245-f98e4a38b720"
      },
      "execution_count": 23,
      "outputs": [
        {
          "output_type": "execute_result",
          "data": {
            "text/plain": [
              "[('ask', 13), ('advic', 3), ('would', 34), ('civilian', 32), ('someon', 7)]"
            ]
          },
          "metadata": {},
          "execution_count": 23
        }
      ]
    },
    {
      "cell_type": "code",
      "source": [
        "THRESHOLD = countOnePipe.map(lambda x : x[-1]).reduce(lambda a,b : a+b) * PCENT"
      ],
      "metadata": {
        "id": "GpOzBbqPKUac"
      },
      "execution_count": 24,
      "outputs": []
    },
    {
      "cell_type": "code",
      "source": [
        "# filter non frequent\n",
        "frequentOnePipe = countOnePipe.filter(lambda x: x[-1] > THRESHOLD).map(lambda x: (1, x[0]))\n",
        "frequentOnePipe.take(5)"
      ],
      "metadata": {
        "id": "HpIN3wm5AO8D",
        "colab": {
          "base_uri": "https://localhost:8080/"
        },
        "outputId": "c0c87cef-44bd-4fe8-a2e2-c48ac67479a8"
      },
      "execution_count": 25,
      "outputs": [
        {
          "output_type": "execute_result",
          "data": {
            "text/plain": [
              "[(1, 'putin'), (1, 'russian'), (1, 'ukrain'), (1, 'russia'), (1, 'the')]"
            ]
          },
          "metadata": {},
          "execution_count": 25
        }
      ]
    },
    {
      "cell_type": "markdown",
      "source": [
        "### 2wo"
      ],
      "metadata": {
        "id": "ktVuc_98_vb7"
      }
    },
    {
      "cell_type": "code",
      "source": [
        "# generate candidate pairs\n",
        "candidateTwoPipe = frequentOnePipe.join(frequentOnePipe).map(lambda x : x[-1]).map(splat).distinct().filter(doubled)\n",
        "candidateTwoPipe.take(5)"
      ],
      "metadata": {
        "id": "I2EfKt2ULdyJ",
        "colab": {
          "base_uri": "https://localhost:8080/"
        },
        "outputId": "fbe39f15-2e0c-4c3a-b465-98d09afcfbeb"
      },
      "execution_count": 26,
      "outputs": [
        {
          "output_type": "execute_result",
          "data": {
            "text/plain": [
              "[('russia', 'russian'),\n",
              " ('the', 'ukrain'),\n",
              " ('putin', 'russian'),\n",
              " ('putin', 'russia'),\n",
              " ('russian', 'ukrain')]"
            ]
          },
          "metadata": {},
          "execution_count": 26
        }
      ]
    },
    {
      "cell_type": "code",
      "source": [
        "# count pair frequency\n",
        "candidateTwo = candidateTwoPipe.collect() # pair in MEM\n",
        "\n",
        "countTwoPipe = dataPipe.map(lambda x : [(pair, is_sub(pair, x[-1])) for pair in candidateTwo] ).flatMap(lambda x : x).reduceByKey(add)\n",
        "countTwoPipe.take(5)"
      ],
      "metadata": {
        "id": "j4IyyuSJNtBy",
        "colab": {
          "base_uri": "https://localhost:8080/"
        },
        "outputId": "b47a2432-c2dc-439b-ce88-5ba868ccb374"
      },
      "execution_count": 27,
      "outputs": [
        {
          "output_type": "execute_result",
          "data": {
            "text/plain": [
              "[(('russia', 'russian'), 142),\n",
              " (('the', 'ukrain'), 142),\n",
              " (('russian', 'ukrain'), 238),\n",
              " (('russian', 'the'), 87),\n",
              " (('russia', 'ukrain'), 338)]"
            ]
          },
          "metadata": {},
          "execution_count": 27
        }
      ]
    },
    {
      "cell_type": "code",
      "source": [
        "#THRESHOLD = countTwoPipe.map(lambda x : x[-1]).reduce(lambda a,b : a+b) * PCENT"
      ],
      "metadata": {
        "id": "J4cPjz-4VwhN"
      },
      "execution_count": 28,
      "outputs": []
    },
    {
      "cell_type": "code",
      "source": [
        "# filter non frequent\n",
        "frequentTwoPipe = countTwoPipe.filter(lambda x: x[-1] > THRESHOLD).map(lambda x: (1, x[0]))\n",
        "frequentTwoPipe.take(5)"
      ],
      "metadata": {
        "id": "r42SRbQpT3hq",
        "colab": {
          "base_uri": "https://localhost:8080/"
        },
        "outputId": "0ff7b006-dd25-4b29-8ddc-7cb99006f1ae"
      },
      "execution_count": 29,
      "outputs": [
        {
          "output_type": "execute_result",
          "data": {
            "text/plain": [
              "[(1, ('russian', 'ukrain')), (1, ('russia', 'ukrain'))]"
            ]
          },
          "metadata": {},
          "execution_count": 29
        }
      ]
    },
    {
      "cell_type": "markdown",
      "source": [
        "### 3hree"
      ],
      "metadata": {
        "id": "g_RSS8BK_poo"
      }
    },
    {
      "cell_type": "code",
      "source": [
        "# generate candidate triples\n",
        "candidateThreePipe = frequentTwoPipe.join(frequentOnePipe).map(lambda x : x[-1]).map(splat).distinct().filter(doubled)\n",
        "candidateThreePipe.take(5)"
      ],
      "metadata": {
        "id": "y0o2kYU5YWu6",
        "colab": {
          "base_uri": "https://localhost:8080/"
        },
        "outputId": "7c7d07fa-dbae-4f4d-cafb-d1f1886d4b1a"
      },
      "execution_count": 30,
      "outputs": [
        {
          "output_type": "execute_result",
          "data": {
            "text/plain": [
              "[('russian', 'the', 'ukrain'),\n",
              " ('russia', 'the', 'ukrain'),\n",
              " ('putin', 'russian', 'ukrain'),\n",
              " ('putin', 'russia', 'ukrain'),\n",
              " ('russia', 'russian', 'ukrain')]"
            ]
          },
          "metadata": {},
          "execution_count": 30
        }
      ]
    },
    {
      "cell_type": "code",
      "source": [
        "# count three frequency\n",
        "candidateThree = candidateThreePipe.collect() # three in MEM\n",
        "\n",
        "countThreePipe = dataPipe.map(lambda x : [(pair, is_sub(pair, x[-1])) for pair in candidateThree] ).flatMap(lambda x : x).reduceByKey(add)\n",
        "countThreePipe.take(5)"
      ],
      "metadata": {
        "id": "qT1vY7vBKTlE",
        "colab": {
          "base_uri": "https://localhost:8080/"
        },
        "outputId": "bd892078-e732-4d2e-a58a-2ae51be35f54"
      },
      "execution_count": 31,
      "outputs": [
        {
          "output_type": "execute_result",
          "data": {
            "text/plain": [
              "[(('russian', 'the', 'ukrain'), 83),\n",
              " (('russia', 'the', 'ukrain'), 84),\n",
              " (('russia', 'russian', 'ukrain'), 128),\n",
              " (('putin', 'russian', 'ukrain'), 33),\n",
              " (('putin', 'russia', 'ukrain'), 76)]"
            ]
          },
          "metadata": {},
          "execution_count": 31
        }
      ]
    },
    {
      "cell_type": "code",
      "source": [
        "# filter non frequent\n",
        "frequentThreePipe = countThreePipe.filter(lambda x: x[-1] > THRESHOLD).map(lambda x: (1, x[0]))\n",
        "frequentThreePipe.take(5)"
      ],
      "metadata": {
        "id": "7sClHGUjKfkj",
        "colab": {
          "base_uri": "https://localhost:8080/"
        },
        "outputId": "b6f00115-4ecc-4ef8-f444-c8d0aff0c13c"
      },
      "execution_count": 32,
      "outputs": [
        {
          "output_type": "execute_result",
          "data": {
            "text/plain": [
              "[]"
            ]
          },
          "metadata": {},
          "execution_count": 32
        }
      ]
    },
    {
      "cell_type": "markdown",
      "source": [
        "## let's generalize it"
      ],
      "metadata": {
        "id": "a54RokrvRb6S"
      }
    },
    {
      "cell_type": "code",
      "source": [
        "def aPriori(data, THRESHOLD = .1):\n",
        "  THRESHOLD *= data.count()\n",
        "\n",
        "  frequent_items_pipe = (data\n",
        "                    .flatMap(lambda x: x[-1])\n",
        "                    .map(lambda x: (x,1))\n",
        "                    .reduceByKey(add)\n",
        "                    .filter(lambda x: x[-1] > THRESHOLD)\n",
        "                    )\n",
        "\n",
        "  frequent_items = frequent_items_pipe.collect()\n",
        "  frequent_items_pipe = frequent_items_pipe.map(lambda x: (1, x[0]))\n",
        "\n",
        "  frequent_itemsets = frequent_items\n",
        "  frequent_itemsets_pipe = frequent_items_pipe\n",
        "\n",
        "  while len(frequent_itemsets):\n",
        "    yield frequent_itemsets\n",
        "    ### COUNTING PHASE\n",
        "    candidate_itemsets_pipe = (frequent_itemsets_pipe\n",
        "                          .join(frequent_items_pipe)\n",
        "                          .map(lambda x : x[-1])\n",
        "                          .map(splat)\n",
        "                          .distinct()\n",
        "                          .filter(doubled)\n",
        "                          )\n",
        "    \n",
        "    candidate_itemsets = candidate_itemsets_pipe.collect()\n",
        "\n",
        "    ### FILTER PHASE\n",
        "    frequent_itemsets_pipe = (data\n",
        "                         .map(lambda x : [(pair, is_sub(pair, x[-1])) for pair in candidate_itemsets] )\n",
        "                         .flatMap(lambda x : x)\n",
        "                         .reduceByKey(add)\n",
        "                         .filter(lambda x: x[-1] > THRESHOLD)\n",
        "                         )\n",
        "    \n",
        "    frequent_itemsets = frequent_itemsets_pipe.collect()\n",
        "    frequent_itemsets_pipe = frequent_itemsets_pipe.map(lambda x: (1, x[0]))"
      ],
      "metadata": {
        "id": "CbbfHuvLRkmf"
      },
      "execution_count": 33,
      "outputs": []
    },
    {
      "cell_type": "code",
      "source": [
        "fgen = aPriori(dataPipe, 0.04)\n",
        "\n",
        "singletone_support = {(k,):v for k,v in next(fgen)}\n",
        "itemsets_support = dict([e for l in fgen for e in l])\n",
        "\n",
        "itemsets_support = {**singletone_support, **itemsets_support}"
      ],
      "metadata": {
        "id": "8G4ucj_7ZXrT"
      },
      "execution_count": 34,
      "outputs": []
    },
    {
      "cell_type": "code",
      "source": [
        "len(itemsets_support)"
      ],
      "metadata": {
        "colab": {
          "base_uri": "https://localhost:8080/"
        },
        "id": "tAt1IqKMBJqu",
        "outputId": "7232501a-86e8-49f1-9d03-473665a60a7c"
      },
      "execution_count": 35,
      "outputs": [
        {
          "output_type": "execute_result",
          "data": {
            "text/plain": [
              "1099"
            ]
          },
          "metadata": {},
          "execution_count": 35
        }
      ]
    },
    {
      "cell_type": "markdown",
      "source": [
        "## measures "
      ],
      "metadata": {
        "id": "qXHDc4zYzzBE"
      }
    },
    {
      "cell_type": "code",
      "source": [
        "confidence = dict()\n",
        "lift = dict()\n",
        "\n",
        "for xy in itemsets_support:\n",
        "  if len(xy) > 1:\n",
        "    for y in xy:\n",
        "      x = list(xy)\n",
        "      x.remove(y)\n",
        "      x = tuple(x)\n",
        "\n",
        "      confidence[x,y] = itemsets_support[xy] / itemsets_support[x]\n",
        "      lift[x,y] = (itemsets_support[xy])/(itemsets_support[(y, )]*itemsets_support[x])"
      ],
      "metadata": {
        "id": "kxKjmITK3Hdi"
      },
      "execution_count": 36,
      "outputs": []
    },
    {
      "cell_type": "code",
      "source": [
        "confidence[('russia', 'ukrain'), 'war']"
      ],
      "metadata": {
        "colab": {
          "base_uri": "https://localhost:8080/"
        },
        "id": "Cy0TYGUP46YL",
        "outputId": "90691bdf-a266-4964-eefd-fbe5bb1c21fb"
      },
      "execution_count": 37,
      "outputs": [
        {
          "output_type": "execute_result",
          "data": {
            "text/plain": [
              "0.14201183431952663"
            ]
          },
          "metadata": {},
          "execution_count": 37
        }
      ]
    },
    {
      "cell_type": "code",
      "source": [
        "lift[('russia', 'ukrain'), 'war']"
      ],
      "metadata": {
        "colab": {
          "base_uri": "https://localhost:8080/"
        },
        "id": "aKisZHLJBYd-",
        "outputId": "53d29463-913e-428d-906f-809a381023b5"
      },
      "execution_count": 38,
      "outputs": [
        {
          "output_type": "execute_result",
          "data": {
            "text/plain": [
              "0.0008503702653863869"
            ]
          },
          "metadata": {},
          "execution_count": 38
        }
      ]
    },
    {
      "cell_type": "code",
      "source": [
        ""
      ],
      "metadata": {
        "id": "ktCkSEbQTZjE"
      },
      "execution_count": 38,
      "outputs": []
    }
  ],
  "metadata": {
    "interpreter": {
      "hash": "e2cd697ea1a65fb50dbc24e0f8485a2ca518dbc7d7a135f655e94e4f59b8539e"
    },
    "kernelspec": {
      "display_name": "Python 3.10.2 ('venv': venv)",
      "language": "python",
      "name": "python3"
    },
    "language_info": {
      "codemirror_mode": {
        "name": "ipython",
        "version": 3
      },
      "file_extension": ".py",
      "mimetype": "text/x-python",
      "name": "python",
      "nbconvert_exporter": "python",
      "pygments_lexer": "ipython3",
      "version": "3.10.2"
    },
    "orig_nbformat": 4,
    "colab": {
      "name": "ukraine.ipynb",
      "provenance": [],
      "include_colab_link": true
    }
  },
  "nbformat": 4,
  "nbformat_minor": 0
}